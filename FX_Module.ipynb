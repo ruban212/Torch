{
  "nbformat": 4,
  "nbformat_minor": 0,
  "metadata": {
    "colab": {
      "provenance": [],
      "gpuType": "T4"
    },
    "kernelspec": {
      "name": "python3",
      "display_name": "Python 3"
    },
    "language_info": {
      "name": "python"
    },
    "accelerator": "GPU"
  },
  "cells": [
    {
      "cell_type": "code",
      "source": [
        "import torch\n",
        "import torch.nn as nn\n",
        "import torch.fx as fx\n",
        "import torch.optim as optim\n",
        "import torch.nn.functional as F\n",
        "from convolution import CustomConv2D"
      ],
      "metadata": {
        "id": "cmHMnocTllOK"
      },
      "execution_count": 32,
      "outputs": []
    },
    {
      "cell_type": "code",
      "source": [
        "class MNISTModel(nn.Module):\n",
        "    def __init__(self, is_training=True):\n",
        "        super(MNISTModel, self).__init__()\n",
        "\n",
        "        if is_training:\n",
        "            self.conv1 = nn.Conv2d(1, 32, kernel_size=3, stride=1, padding=1)\n",
        "            self.conv2 = nn.Conv2d(32, 64, kernel_size=3, stride=1, padding=1)\n",
        "        else:\n",
        "            self.conv1 = CustomConv2D(1, 32, kernel_size=3, stride=1, padding=1)\n",
        "            self.conv2 = CustomConv2D(32, 64, kernel_size=3, stride=1, padding=1)\n",
        "\n",
        "        self.pool = nn.MaxPool2d(kernel_size=2, stride=2)\n",
        "        self.fc1 = nn.Linear(64 * 7 * 7, 128)\n",
        "        self.fc2 = nn.Linear(128, 10)\n",
        "\n",
        "    def forward(self, x):\n",
        "        x = self.conv1(x)\n",
        "        x = self.pool(x)\n",
        "        x = self.conv2(x)\n",
        "        x = self.pool(x)\n",
        "        x = x.reshape(x.size(0), -1)\n",
        "        x = F.relu(self.fc1(x))\n",
        "        x = self.fc2(x)\n",
        "        return x"
      ],
      "metadata": {
        "id": "y3KSCu3KllTg"
      },
      "execution_count": 33,
      "outputs": []
    },
    {
      "cell_type": "code",
      "source": [
        "class ReplaceReluWithSigmoid(fx.Interpreter):\n",
        "    def call_function(self, target, args, kwargs):\n",
        "        if target == torch.relu:\n",
        "            print(f\"Replacing ReLU with Sigmoid at {target}\")\n",
        "            return torch.sigmoid(*args)\n",
        "        return super().call_function(target, args, kwargs)"
      ],
      "metadata": {
        "id": "m-xbDVmy-F10"
      },
      "execution_count": 37,
      "outputs": []
    },
    {
      "cell_type": "code",
      "source": [
        "model = MNISTModel(is_training=True)\n",
        "traced_model = fx.symbolic_trace(model)\n",
        "\n",
        "print(traced_model.graph)"
      ],
      "metadata": {
        "colab": {
          "base_uri": "https://localhost:8080/"
        },
        "id": "iZKcI_Rb8iqw",
        "outputId": "6b74f7f1-b88a-4401-e37f-bbb035f82ce8"
      },
      "execution_count": 38,
      "outputs": [
        {
          "output_type": "stream",
          "name": "stdout",
          "text": [
            "graph():\n",
            "    %x : [num_users=1] = placeholder[target=x]\n",
            "    %conv1 : [num_users=1] = call_module[target=conv1](args = (%x,), kwargs = {})\n",
            "    %pool : [num_users=1] = call_module[target=pool](args = (%conv1,), kwargs = {})\n",
            "    %conv2 : [num_users=1] = call_module[target=conv2](args = (%pool,), kwargs = {})\n",
            "    %pool_1 : [num_users=2] = call_module[target=pool](args = (%conv2,), kwargs = {})\n",
            "    %size : [num_users=1] = call_method[target=size](args = (%pool_1, 0), kwargs = {})\n",
            "    %reshape : [num_users=1] = call_method[target=reshape](args = (%pool_1, %size, -1), kwargs = {})\n",
            "    %fc1 : [num_users=1] = call_module[target=fc1](args = (%reshape,), kwargs = {})\n",
            "    %relu : [num_users=1] = call_function[target=torch.nn.functional.relu](args = (%fc1,), kwargs = {inplace: False})\n",
            "    %fc2 : [num_users=1] = call_module[target=fc2](args = (%relu,), kwargs = {})\n",
            "    return fc2\n"
          ]
        }
      ]
    },
    {
      "cell_type": "code",
      "source": [
        "transformer = ReplaceReluWithSigmoid(traced_model)\n",
        "transformed_output = transformer.run(torch.randn(1, 1, 28, 28))\n",
        "print(\"Transformed Output (ReLU replaced by Sigmoid):\", transformed_output)"
      ],
      "metadata": {
        "colab": {
          "base_uri": "https://localhost:8080/"
        },
        "id": "pDmQm8jXGkTW",
        "outputId": "83794bf6-0512-4ac9-d623-f2e925e41373"
      },
      "execution_count": 39,
      "outputs": [
        {
          "output_type": "stream",
          "name": "stdout",
          "text": [
            "Transformed Output (ReLU replaced by Sigmoid): tensor([[-0.1405,  0.0976,  0.1702, -0.0080, -0.1772,  0.0951,  0.0214,  0.0063,\n",
            "          0.0360, -0.0378]], grad_fn=<AddmmBackward0>)\n"
          ]
        }
      ]
    },
    {
      "cell_type": "code",
      "source": [
        "def print_graph_in_tabular(graph):\n",
        "    headers = [\"opcode\", \"name\", \"target\", \"args\", \"kwargs\"]\n",
        "    row_format = \"{:<15} {:<10} {:<25} {:<20} {}\"\n",
        "\n",
        "    print(row_format.format(*headers))\n",
        "    print(\"-\" * 90)\n",
        "\n",
        "    for node in graph.nodes:\n",
        "        opcode = node.op\n",
        "        name = node.name\n",
        "        target = node.target\n",
        "        args = str(node.args)\n",
        "        kwargs = str(node.kwargs)\n",
        "\n",
        "        print(row_format.format(opcode, name, str(target), args, kwargs))\n",
        "\n",
        "print(\"Transformed Graph:\")\n",
        "print_graph_in_tabular(traced_model.graph)"
      ],
      "metadata": {
        "colab": {
          "base_uri": "https://localhost:8080/"
        },
        "id": "Gtvz9bfUFzXH",
        "outputId": "110dcdad-337f-47da-c7cc-77065a7110e1"
      },
      "execution_count": 40,
      "outputs": [
        {
          "output_type": "stream",
          "name": "stdout",
          "text": [
            "Transformed Graph:\n",
            "opcode          name       target                    args                 kwargs\n",
            "------------------------------------------------------------------------------------------\n",
            "placeholder     x          x                         ()                   {}\n",
            "call_module     conv1      conv1                     (x,)                 {}\n",
            "call_module     pool       pool                      (conv1,)             {}\n",
            "call_module     conv2      conv2                     (pool,)              {}\n",
            "call_module     pool_1     pool                      (conv2,)             {}\n",
            "call_method     size       size                      (pool_1, 0)          {}\n",
            "call_method     reshape    reshape                   (pool_1, size, -1)   {}\n",
            "call_module     fc1        fc1                       (reshape,)           {}\n",
            "call_function   relu       <function relu at 0x7ee9b959f5b0> (fc1,)               {'inplace': False}\n",
            "call_module     fc2        fc2                       (relu,)              {}\n",
            "output          output     output                    (fc2,)               {}\n"
          ]
        }
      ]
    }
  ]
}