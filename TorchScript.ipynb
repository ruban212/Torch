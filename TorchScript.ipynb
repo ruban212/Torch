{
  "nbformat": 4,
  "nbformat_minor": 0,
  "metadata": {
    "colab": {
      "provenance": [],
      "gpuType": "T4"
    },
    "kernelspec": {
      "name": "python3",
      "display_name": "Python 3"
    },
    "language_info": {
      "name": "python"
    },
    "accelerator": "GPU"
  },
  "cells": [
    {
      "cell_type": "code",
      "source": [
        "import torch\n",
        "import torch.nn as nn\n",
        "import torch.fx as fx\n",
        "import torch.optim as optim\n",
        "import torch.nn.functional as F\n",
        "from convolution import CustomConv2D"
      ],
      "metadata": {
        "id": "cmHMnocTllOK"
      },
      "execution_count": 41,
      "outputs": []
    },
    {
      "cell_type": "code",
      "source": [
        "class MNISTModel(nn.Module):\n",
        "    def __init__(self, is_training=True):\n",
        "        super(MNISTModel, self).__init__()\n",
        "\n",
        "        if is_training:\n",
        "            self.conv1 = nn.Conv2d(1, 32, kernel_size=3, stride=1, padding=1)\n",
        "            self.conv2 = nn.Conv2d(32, 64, kernel_size=3, stride=1, padding=1)\n",
        "        else:\n",
        "            self.conv1 = CustomConv2D(1, 32, kernel_size=3, stride=1, padding=1)\n",
        "            self.conv2 = CustomConv2D(32, 64, kernel_size=3, stride=1, padding=1)\n",
        "\n",
        "        self.pool = nn.MaxPool2d(kernel_size=2, stride=2)\n",
        "        self.fc1 = nn.Linear(64 * 7 * 7, 128)\n",
        "        self.fc2 = nn.Linear(128, 10)\n",
        "\n",
        "    def forward(self, x):\n",
        "        x = self.conv1(x)\n",
        "        x = self.pool(x)\n",
        "        x = self.conv2(x)\n",
        "        x = self.pool(x)\n",
        "        x = x.reshape(x.size(0), -1)\n",
        "        x = F.relu(self.fc1(x))\n",
        "        x = self.fc2(x)\n",
        "        return x"
      ],
      "metadata": {
        "id": "y3KSCu3KllTg"
      },
      "execution_count": 42,
      "outputs": []
    },
    {
      "cell_type": "code",
      "source": [
        "model = MNISTModel(is_training=True)\n",
        "\n",
        "example_input = torch.randn(1, 1, 28, 28)\n",
        "traced_model = torch.jit.trace(model, example_input)\n",
        "traced_model.save(\"traced_mnist_model.pt\")"
      ],
      "metadata": {
        "id": "Bkrd0eqMIRvH"
      },
      "execution_count": 45,
      "outputs": []
    },
    {
      "cell_type": "code",
      "source": [
        "loaded_traced_model = torch.jit.load(\"traced_mnist_model.pt\")\n",
        "\n",
        "output = loaded_traced_model(example_input)\n",
        "print(\"Traced Model Output:\", output)"
      ],
      "metadata": {
        "id": "M_t7WcHKIRxc",
        "outputId": "60f5e6fe-8de0-4be6-b644-45765d7eaea4",
        "colab": {
          "base_uri": "https://localhost:8080/"
        }
      },
      "execution_count": 46,
      "outputs": [
        {
          "output_type": "stream",
          "name": "stdout",
          "text": [
            "Traced Model Output: tensor([[ 0.2431, -0.0546, -0.1588, -0.0545,  0.0427, -0.1299, -0.0787, -0.0068,\n",
            "         -0.0827, -0.2091]], grad_fn=<AddmmBackward0>)\n"
          ]
        }
      ]
    },
    {
      "cell_type": "code",
      "source": [
        "model = MNISTModel()\n",
        "\n",
        "scripted_model = torch.jit.script(model)\n",
        "\n",
        "scripted_model.save(\"scripted_mnist_model.pt\")"
      ],
      "metadata": {
        "id": "WTM8an-QIR0F"
      },
      "execution_count": 47,
      "outputs": []
    },
    {
      "cell_type": "code",
      "source": [
        "loaded_scripted_model = torch.jit.load(\"scripted_mnist_model.pt\")\n",
        "\n",
        "output = loaded_scripted_model(example_input)\n",
        "print(\"Scripted Model Output:\", output)"
      ],
      "metadata": {
        "id": "vL84j313IR3Z",
        "outputId": "d57f6f43-d17d-4abe-a54c-d69aa91aac83",
        "colab": {
          "base_uri": "https://localhost:8080/"
        }
      },
      "execution_count": 48,
      "outputs": [
        {
          "output_type": "stream",
          "name": "stdout",
          "text": [
            "Scripted Model Output: tensor([[ 0.1761,  0.0027,  0.0665, -0.0906, -0.0172,  0.0932, -0.0141,  0.1020,\n",
            "         -0.2283, -0.1848]], grad_fn=<AddmmBackward0>)\n"
          ]
        }
      ]
    }
  ]
}